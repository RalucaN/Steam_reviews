{
 "cells": [
  {
   "cell_type": "markdown",
   "id": "bf68af0a",
   "metadata": {},
   "source": [
    "# **Data processing**\n",
    "\n",
    "For this step, I am looking to:\n",
    "- clean the data (e.g. removing empty reviews & special characters, performing feature transformation if needed);\n",
    "- understanding the particularities of this data (e.g. looking at the distribution of each feature, understanding the relationship between the different features)\n",
    "\n",
    "\n",
    "Useful articles for the Explaratory Data Analysis (EDA) process:\n",
    "* Exploratory Data Analysis Cheatsheet (everything you might need) - https://datasans.medium.com/exploratory-data-analysis-cheatsheet-everything-you-might-need-36230538484d\n",
    "* 10 Automated EDA Tools That Will Save You Hours Of Work - https://medium.com/@riteshgupta.ai/10-automated-eda-tools-that-will-save-you-hours-of-work-b3edf3740fc2\n",
    "---"
   ]
  },
  {
   "cell_type": "code",
   "execution_count": 1,
   "id": "f634aa16",
   "metadata": {},
   "outputs": [],
   "source": [
    "# Importing packages\n",
    "import pandas as pd\n",
    "import numpy as np\n",
    "import matplotlib.pyplot as plt\n",
    "import seaborn as sns\n"
   ]
  },
  {
   "cell_type": "code",
   "execution_count": 2,
   "id": "a5eefc25",
   "metadata": {},
   "outputs": [
    {
     "data": {
      "text/html": [
       "<div>\n",
       "<style scoped>\n",
       "    .dataframe tbody tr th:only-of-type {\n",
       "        vertical-align: middle;\n",
       "    }\n",
       "\n",
       "    .dataframe tbody tr th {\n",
       "        vertical-align: top;\n",
       "    }\n",
       "\n",
       "    .dataframe thead th {\n",
       "        text-align: right;\n",
       "    }\n",
       "</style>\n",
       "<table border=\"1\" class=\"dataframe\">\n",
       "  <thead>\n",
       "    <tr style=\"text-align: right;\">\n",
       "      <th></th>\n",
       "      <th>recommendationid</th>\n",
       "      <th>language</th>\n",
       "      <th>review</th>\n",
       "      <th>timestamp_created</th>\n",
       "      <th>timestamp_updated</th>\n",
       "      <th>voted_up</th>\n",
       "      <th>votes_up</th>\n",
       "      <th>votes_funny</th>\n",
       "      <th>weighted_vote_score</th>\n",
       "      <th>comment_count</th>\n",
       "      <th>...</th>\n",
       "      <th>written_during_early_access</th>\n",
       "      <th>hidden_in_steam_china</th>\n",
       "      <th>steam_china_location</th>\n",
       "      <th>steamid</th>\n",
       "      <th>num_games_owned</th>\n",
       "      <th>num_reviews</th>\n",
       "      <th>playtime_forever</th>\n",
       "      <th>playtime_last_two_weeks</th>\n",
       "      <th>playtime_at_review</th>\n",
       "      <th>last_played</th>\n",
       "    </tr>\n",
       "  </thead>\n",
       "  <tbody>\n",
       "    <tr>\n",
       "      <th>0</th>\n",
       "      <td>140348666</td>\n",
       "      <td>english</td>\n",
       "      <td>I played this for 99 minutes EXACTLY. and I HA...</td>\n",
       "      <td>1687201179</td>\n",
       "      <td>1687201179</td>\n",
       "      <td>False</td>\n",
       "      <td>0</td>\n",
       "      <td>0</td>\n",
       "      <td>0.00000</td>\n",
       "      <td>0</td>\n",
       "      <td>...</td>\n",
       "      <td>True</td>\n",
       "      <td>True</td>\n",
       "      <td>NaN</td>\n",
       "      <td>76561198090007828</td>\n",
       "      <td>80</td>\n",
       "      <td>78</td>\n",
       "      <td>99</td>\n",
       "      <td>0</td>\n",
       "      <td>99</td>\n",
       "      <td>1614510611</td>\n",
       "    </tr>\n",
       "    <tr>\n",
       "      <th>1</th>\n",
       "      <td>140347990</td>\n",
       "      <td>english</td>\n",
       "      <td>this game is amazing, and even better with the...</td>\n",
       "      <td>1687200393</td>\n",
       "      <td>1687200393</td>\n",
       "      <td>True</td>\n",
       "      <td>0</td>\n",
       "      <td>0</td>\n",
       "      <td>0.00000</td>\n",
       "      <td>0</td>\n",
       "      <td>...</td>\n",
       "      <td>True</td>\n",
       "      <td>True</td>\n",
       "      <td>NaN</td>\n",
       "      <td>76561199501472502</td>\n",
       "      <td>0</td>\n",
       "      <td>3</td>\n",
       "      <td>1785</td>\n",
       "      <td>1785</td>\n",
       "      <td>1754</td>\n",
       "      <td>1687202643</td>\n",
       "    </tr>\n",
       "    <tr>\n",
       "      <th>2</th>\n",
       "      <td>140347860</td>\n",
       "      <td>english</td>\n",
       "      <td>GAME IS horrible gave me fucking cancer sound</td>\n",
       "      <td>1687200233</td>\n",
       "      <td>1687200233</td>\n",
       "      <td>False</td>\n",
       "      <td>1</td>\n",
       "      <td>0</td>\n",
       "      <td>0.52381</td>\n",
       "      <td>1</td>\n",
       "      <td>...</td>\n",
       "      <td>True</td>\n",
       "      <td>True</td>\n",
       "      <td>NaN</td>\n",
       "      <td>76561199469648869</td>\n",
       "      <td>10</td>\n",
       "      <td>1</td>\n",
       "      <td>1163</td>\n",
       "      <td>180</td>\n",
       "      <td>1163</td>\n",
       "      <td>1687200165</td>\n",
       "    </tr>\n",
       "    <tr>\n",
       "      <th>3</th>\n",
       "      <td>140345029</td>\n",
       "      <td>english</td>\n",
       "      <td>The only bad thing about this game is the amou...</td>\n",
       "      <td>1687196855</td>\n",
       "      <td>1687196855</td>\n",
       "      <td>True</td>\n",
       "      <td>0</td>\n",
       "      <td>0</td>\n",
       "      <td>0.00000</td>\n",
       "      <td>0</td>\n",
       "      <td>...</td>\n",
       "      <td>True</td>\n",
       "      <td>True</td>\n",
       "      <td>NaN</td>\n",
       "      <td>76561198082594466</td>\n",
       "      <td>0</td>\n",
       "      <td>4</td>\n",
       "      <td>23089</td>\n",
       "      <td>2</td>\n",
       "      <td>23088</td>\n",
       "      <td>1687196885</td>\n",
       "    </tr>\n",
       "    <tr>\n",
       "      <th>4</th>\n",
       "      <td>140343169</td>\n",
       "      <td>english</td>\n",
       "      <td>nice</td>\n",
       "      <td>1687194571</td>\n",
       "      <td>1687194571</td>\n",
       "      <td>True</td>\n",
       "      <td>0</td>\n",
       "      <td>0</td>\n",
       "      <td>0.00000</td>\n",
       "      <td>0</td>\n",
       "      <td>...</td>\n",
       "      <td>True</td>\n",
       "      <td>True</td>\n",
       "      <td>NaN</td>\n",
       "      <td>76561198112578500</td>\n",
       "      <td>20</td>\n",
       "      <td>2</td>\n",
       "      <td>2980</td>\n",
       "      <td>123</td>\n",
       "      <td>2857</td>\n",
       "      <td>1687201992</td>\n",
       "    </tr>\n",
       "  </tbody>\n",
       "</table>\n",
       "<p>5 rows × 22 columns</p>\n",
       "</div>"
      ],
      "text/plain": [
       "   recommendationid language  \\\n",
       "0         140348666  english   \n",
       "1         140347990  english   \n",
       "2         140347860  english   \n",
       "3         140345029  english   \n",
       "4         140343169  english   \n",
       "\n",
       "                                              review  timestamp_created  \\\n",
       "0  I played this for 99 minutes EXACTLY. and I HA...         1687201179   \n",
       "1  this game is amazing, and even better with the...         1687200393   \n",
       "2      GAME IS horrible gave me fucking cancer sound         1687200233   \n",
       "3  The only bad thing about this game is the amou...         1687196855   \n",
       "4                                               nice         1687194571   \n",
       "\n",
       "   timestamp_updated  voted_up  votes_up  votes_funny  weighted_vote_score  \\\n",
       "0         1687201179     False         0            0              0.00000   \n",
       "1         1687200393      True         0            0              0.00000   \n",
       "2         1687200233     False         1            0              0.52381   \n",
       "3         1687196855      True         0            0              0.00000   \n",
       "4         1687194571      True         0            0              0.00000   \n",
       "\n",
       "   comment_count  ...  written_during_early_access  hidden_in_steam_china  \\\n",
       "0              0  ...                         True                   True   \n",
       "1              0  ...                         True                   True   \n",
       "2              1  ...                         True                   True   \n",
       "3              0  ...                         True                   True   \n",
       "4              0  ...                         True                   True   \n",
       "\n",
       "   steam_china_location            steamid  num_games_owned  num_reviews  \\\n",
       "0                   NaN  76561198090007828               80           78   \n",
       "1                   NaN  76561199501472502                0            3   \n",
       "2                   NaN  76561199469648869               10            1   \n",
       "3                   NaN  76561198082594466                0            4   \n",
       "4                   NaN  76561198112578500               20            2   \n",
       "\n",
       "   playtime_forever  playtime_last_two_weeks  playtime_at_review  last_played  \n",
       "0                99                        0                  99   1614510611  \n",
       "1              1785                     1785                1754   1687202643  \n",
       "2              1163                      180                1163   1687200165  \n",
       "3             23089                        2               23088   1687196885  \n",
       "4              2980                      123                2857   1687201992  \n",
       "\n",
       "[5 rows x 22 columns]"
      ]
     },
     "execution_count": 2,
     "metadata": {},
     "output_type": "execute_result"
    }
   ],
   "source": [
    "# Loading the data\n",
    "data= pd.read_csv(\"Data\\892970.csv\")\n",
    "data.head()"
   ]
  },
  {
   "cell_type": "code",
   "execution_count": 3,
   "id": "55616296",
   "metadata": {},
   "outputs": [
    {
     "name": "stdout",
     "output_type": "stream",
     "text": [
      "<class 'pandas.core.frame.DataFrame'>\n",
      "RangeIndex: 244655 entries, 0 to 244654\n",
      "Data columns (total 22 columns):\n",
      " #   Column                       Non-Null Count   Dtype  \n",
      "---  ------                       --------------   -----  \n",
      " 0   recommendationid             244655 non-null  int64  \n",
      " 1   language                     244655 non-null  object \n",
      " 2   review                       243796 non-null  object \n",
      " 3   timestamp_created            244655 non-null  int64  \n",
      " 4   timestamp_updated            244655 non-null  int64  \n",
      " 5   voted_up                     244655 non-null  bool   \n",
      " 6   votes_up                     244655 non-null  int64  \n",
      " 7   votes_funny                  244655 non-null  int64  \n",
      " 8   weighted_vote_score          244655 non-null  float64\n",
      " 9   comment_count                244655 non-null  int64  \n",
      " 10  steam_purchase               244655 non-null  bool   \n",
      " 11  received_for_free            244655 non-null  bool   \n",
      " 12  written_during_early_access  244655 non-null  bool   \n",
      " 13  hidden_in_steam_china        244655 non-null  bool   \n",
      " 14  steam_china_location         0 non-null       float64\n",
      " 15  steamid                      244655 non-null  int64  \n",
      " 16  num_games_owned              244655 non-null  int64  \n",
      " 17  num_reviews                  244655 non-null  int64  \n",
      " 18  playtime_forever             244655 non-null  int64  \n",
      " 19  playtime_last_two_weeks      244655 non-null  int64  \n",
      " 20  playtime_at_review           244655 non-null  int64  \n",
      " 21  last_played                  244655 non-null  int64  \n",
      "dtypes: bool(5), float64(2), int64(13), object(2)\n",
      "memory usage: 32.9+ MB\n"
     ]
    }
   ],
   "source": [
    "data.info(verbose=True)"
   ]
  },
  {
   "cell_type": "code",
   "execution_count": 4,
   "id": "d809c63c",
   "metadata": {},
   "outputs": [
    {
     "data": {
      "text/plain": [
       "(244655, 22)"
      ]
     },
     "execution_count": 4,
     "metadata": {},
     "output_type": "execute_result"
    }
   ],
   "source": [
    "data.shape"
   ]
  },
  {
   "cell_type": "code",
   "execution_count": 5,
   "id": "f1905b2d",
   "metadata": {},
   "outputs": [
    {
     "data": {
      "text/html": [
       "<div>\n",
       "<style scoped>\n",
       "    .dataframe tbody tr th:only-of-type {\n",
       "        vertical-align: middle;\n",
       "    }\n",
       "\n",
       "    .dataframe tbody tr th {\n",
       "        vertical-align: top;\n",
       "    }\n",
       "\n",
       "    .dataframe thead th {\n",
       "        text-align: right;\n",
       "    }\n",
       "</style>\n",
       "<table border=\"1\" class=\"dataframe\">\n",
       "  <thead>\n",
       "    <tr style=\"text-align: right;\">\n",
       "      <th></th>\n",
       "      <th>recommendationid</th>\n",
       "      <th>language</th>\n",
       "      <th>review</th>\n",
       "      <th>timestamp_created</th>\n",
       "      <th>timestamp_updated</th>\n",
       "      <th>voted_up</th>\n",
       "      <th>votes_up</th>\n",
       "      <th>votes_funny</th>\n",
       "      <th>weighted_vote_score</th>\n",
       "      <th>comment_count</th>\n",
       "      <th>...</th>\n",
       "      <th>written_during_early_access</th>\n",
       "      <th>hidden_in_steam_china</th>\n",
       "      <th>steam_china_location</th>\n",
       "      <th>steamid</th>\n",
       "      <th>num_games_owned</th>\n",
       "      <th>num_reviews</th>\n",
       "      <th>playtime_forever</th>\n",
       "      <th>playtime_last_two_weeks</th>\n",
       "      <th>playtime_at_review</th>\n",
       "      <th>last_played</th>\n",
       "    </tr>\n",
       "  </thead>\n",
       "  <tbody>\n",
       "    <tr>\n",
       "      <th>count</th>\n",
       "      <td>2.446550e+05</td>\n",
       "      <td>244655</td>\n",
       "      <td>243796</td>\n",
       "      <td>2.446550e+05</td>\n",
       "      <td>2.446550e+05</td>\n",
       "      <td>244655</td>\n",
       "      <td>244655.000000</td>\n",
       "      <td>244655.000000</td>\n",
       "      <td>244655.000000</td>\n",
       "      <td>244655.000000</td>\n",
       "      <td>...</td>\n",
       "      <td>244655</td>\n",
       "      <td>244655</td>\n",
       "      <td>0.0</td>\n",
       "      <td>2.446550e+05</td>\n",
       "      <td>244655.000000</td>\n",
       "      <td>244655.000000</td>\n",
       "      <td>2.446550e+05</td>\n",
       "      <td>244655.000000</td>\n",
       "      <td>244655.000000</td>\n",
       "      <td>2.446550e+05</td>\n",
       "    </tr>\n",
       "    <tr>\n",
       "      <th>unique</th>\n",
       "      <td>NaN</td>\n",
       "      <td>1</td>\n",
       "      <td>199776</td>\n",
       "      <td>NaN</td>\n",
       "      <td>NaN</td>\n",
       "      <td>2</td>\n",
       "      <td>NaN</td>\n",
       "      <td>NaN</td>\n",
       "      <td>NaN</td>\n",
       "      <td>NaN</td>\n",
       "      <td>...</td>\n",
       "      <td>1</td>\n",
       "      <td>2</td>\n",
       "      <td>NaN</td>\n",
       "      <td>NaN</td>\n",
       "      <td>NaN</td>\n",
       "      <td>NaN</td>\n",
       "      <td>NaN</td>\n",
       "      <td>NaN</td>\n",
       "      <td>NaN</td>\n",
       "      <td>NaN</td>\n",
       "    </tr>\n",
       "    <tr>\n",
       "      <th>top</th>\n",
       "      <td>NaN</td>\n",
       "      <td>english</td>\n",
       "      <td>good</td>\n",
       "      <td>NaN</td>\n",
       "      <td>NaN</td>\n",
       "      <td>True</td>\n",
       "      <td>NaN</td>\n",
       "      <td>NaN</td>\n",
       "      <td>NaN</td>\n",
       "      <td>NaN</td>\n",
       "      <td>...</td>\n",
       "      <td>True</td>\n",
       "      <td>False</td>\n",
       "      <td>NaN</td>\n",
       "      <td>NaN</td>\n",
       "      <td>NaN</td>\n",
       "      <td>NaN</td>\n",
       "      <td>NaN</td>\n",
       "      <td>NaN</td>\n",
       "      <td>NaN</td>\n",
       "      <td>NaN</td>\n",
       "    </tr>\n",
       "    <tr>\n",
       "      <th>freq</th>\n",
       "      <td>NaN</td>\n",
       "      <td>244655</td>\n",
       "      <td>1904</td>\n",
       "      <td>NaN</td>\n",
       "      <td>NaN</td>\n",
       "      <td>233190</td>\n",
       "      <td>NaN</td>\n",
       "      <td>NaN</td>\n",
       "      <td>NaN</td>\n",
       "      <td>NaN</td>\n",
       "      <td>...</td>\n",
       "      <td>244655</td>\n",
       "      <td>215002</td>\n",
       "      <td>NaN</td>\n",
       "      <td>NaN</td>\n",
       "      <td>NaN</td>\n",
       "      <td>NaN</td>\n",
       "      <td>NaN</td>\n",
       "      <td>NaN</td>\n",
       "      <td>NaN</td>\n",
       "      <td>NaN</td>\n",
       "    </tr>\n",
       "    <tr>\n",
       "      <th>mean</th>\n",
       "      <td>9.746908e+07</td>\n",
       "      <td>NaN</td>\n",
       "      <td>NaN</td>\n",
       "      <td>1.628263e+09</td>\n",
       "      <td>1.629793e+09</td>\n",
       "      <td>NaN</td>\n",
       "      <td>0.942822</td>\n",
       "      <td>0.197368</td>\n",
       "      <td>0.126076</td>\n",
       "      <td>0.040273</td>\n",
       "      <td>...</td>\n",
       "      <td>NaN</td>\n",
       "      <td>NaN</td>\n",
       "      <td>NaN</td>\n",
       "      <td>7.656120e+16</td>\n",
       "      <td>78.346827</td>\n",
       "      <td>11.359923</td>\n",
       "      <td>1.130402e+04</td>\n",
       "      <td>61.634498</td>\n",
       "      <td>4154.193325</td>\n",
       "      <td>1.663589e+09</td>\n",
       "    </tr>\n",
       "    <tr>\n",
       "      <th>std</th>\n",
       "      <td>1.485207e+07</td>\n",
       "      <td>NaN</td>\n",
       "      <td>NaN</td>\n",
       "      <td>2.041972e+07</td>\n",
       "      <td>2.132069e+07</td>\n",
       "      <td>NaN</td>\n",
       "      <td>38.938885</td>\n",
       "      <td>10.345051</td>\n",
       "      <td>0.221211</td>\n",
       "      <td>0.910162</td>\n",
       "      <td>...</td>\n",
       "      <td>NaN</td>\n",
       "      <td>NaN</td>\n",
       "      <td>NaN</td>\n",
       "      <td>3.751221e+08</td>\n",
       "      <td>227.717318</td>\n",
       "      <td>24.045755</td>\n",
       "      <td>1.828825e+04</td>\n",
       "      <td>448.461893</td>\n",
       "      <td>7884.338301</td>\n",
       "      <td>2.301677e+07</td>\n",
       "    </tr>\n",
       "    <tr>\n",
       "      <th>min</th>\n",
       "      <td>8.582536e+07</td>\n",
       "      <td>NaN</td>\n",
       "      <td>NaN</td>\n",
       "      <td>1.612278e+09</td>\n",
       "      <td>1.612278e+09</td>\n",
       "      <td>NaN</td>\n",
       "      <td>0.000000</td>\n",
       "      <td>0.000000</td>\n",
       "      <td>0.000000</td>\n",
       "      <td>0.000000</td>\n",
       "      <td>...</td>\n",
       "      <td>NaN</td>\n",
       "      <td>NaN</td>\n",
       "      <td>NaN</td>\n",
       "      <td>7.656120e+16</td>\n",
       "      <td>0.000000</td>\n",
       "      <td>1.000000</td>\n",
       "      <td>1.000000e+00</td>\n",
       "      <td>0.000000</td>\n",
       "      <td>5.000000</td>\n",
       "      <td>1.612280e+09</td>\n",
       "    </tr>\n",
       "    <tr>\n",
       "      <th>25%</th>\n",
       "      <td>8.730957e+07</td>\n",
       "      <td>NaN</td>\n",
       "      <td>NaN</td>\n",
       "      <td>1.614109e+09</td>\n",
       "      <td>1.614213e+09</td>\n",
       "      <td>NaN</td>\n",
       "      <td>0.000000</td>\n",
       "      <td>0.000000</td>\n",
       "      <td>0.000000</td>\n",
       "      <td>0.000000</td>\n",
       "      <td>...</td>\n",
       "      <td>NaN</td>\n",
       "      <td>NaN</td>\n",
       "      <td>NaN</td>\n",
       "      <td>7.656120e+16</td>\n",
       "      <td>0.000000</td>\n",
       "      <td>2.000000</td>\n",
       "      <td>3.057000e+03</td>\n",
       "      <td>0.000000</td>\n",
       "      <td>720.000000</td>\n",
       "      <td>1.648380e+09</td>\n",
       "    </tr>\n",
       "    <tr>\n",
       "      <th>50%</th>\n",
       "      <td>8.895030e+07</td>\n",
       "      <td>NaN</td>\n",
       "      <td>NaN</td>\n",
       "      <td>1.616514e+09</td>\n",
       "      <td>1.617068e+09</td>\n",
       "      <td>NaN</td>\n",
       "      <td>0.000000</td>\n",
       "      <td>0.000000</td>\n",
       "      <td>0.000000</td>\n",
       "      <td>0.000000</td>\n",
       "      <td>...</td>\n",
       "      <td>NaN</td>\n",
       "      <td>NaN</td>\n",
       "      <td>NaN</td>\n",
       "      <td>7.656120e+16</td>\n",
       "      <td>0.000000</td>\n",
       "      <td>5.000000</td>\n",
       "      <td>6.556000e+03</td>\n",
       "      <td>0.000000</td>\n",
       "      <td>1971.000000</td>\n",
       "      <td>1.672941e+09</td>\n",
       "    </tr>\n",
       "    <tr>\n",
       "      <th>75%</th>\n",
       "      <td>1.042739e+08</td>\n",
       "      <td>NaN</td>\n",
       "      <td>NaN</td>\n",
       "      <td>1.637991e+09</td>\n",
       "      <td>1.639429e+09</td>\n",
       "      <td>NaN</td>\n",
       "      <td>0.000000</td>\n",
       "      <td>0.000000</td>\n",
       "      <td>0.000000</td>\n",
       "      <td>0.000000</td>\n",
       "      <td>...</td>\n",
       "      <td>NaN</td>\n",
       "      <td>NaN</td>\n",
       "      <td>NaN</td>\n",
       "      <td>7.656120e+16</td>\n",
       "      <td>73.000000</td>\n",
       "      <td>12.000000</td>\n",
       "      <td>1.300600e+04</td>\n",
       "      <td>0.000000</td>\n",
       "      <td>4701.000000</td>\n",
       "      <td>1.680962e+09</td>\n",
       "    </tr>\n",
       "    <tr>\n",
       "      <th>max</th>\n",
       "      <td>1.403487e+08</td>\n",
       "      <td>NaN</td>\n",
       "      <td>NaN</td>\n",
       "      <td>1.687201e+09</td>\n",
       "      <td>1.687201e+09</td>\n",
       "      <td>NaN</td>\n",
       "      <td>12801.000000</td>\n",
       "      <td>3819.000000</td>\n",
       "      <td>0.987343</td>\n",
       "      <td>227.000000</td>\n",
       "      <td>...</td>\n",
       "      <td>NaN</td>\n",
       "      <td>NaN</td>\n",
       "      <td>NaN</td>\n",
       "      <td>7.656120e+16</td>\n",
       "      <td>19536.000000</td>\n",
       "      <td>2552.000000</td>\n",
       "      <td>1.216607e+06</td>\n",
       "      <td>20036.000000</td>\n",
       "      <td>611715.000000</td>\n",
       "      <td>1.687205e+09</td>\n",
       "    </tr>\n",
       "  </tbody>\n",
       "</table>\n",
       "<p>11 rows × 22 columns</p>\n",
       "</div>"
      ],
      "text/plain": [
       "        recommendationid language  review  timestamp_created  \\\n",
       "count       2.446550e+05   244655  243796       2.446550e+05   \n",
       "unique               NaN        1  199776                NaN   \n",
       "top                  NaN  english    good                NaN   \n",
       "freq                 NaN   244655    1904                NaN   \n",
       "mean        9.746908e+07      NaN     NaN       1.628263e+09   \n",
       "std         1.485207e+07      NaN     NaN       2.041972e+07   \n",
       "min         8.582536e+07      NaN     NaN       1.612278e+09   \n",
       "25%         8.730957e+07      NaN     NaN       1.614109e+09   \n",
       "50%         8.895030e+07      NaN     NaN       1.616514e+09   \n",
       "75%         1.042739e+08      NaN     NaN       1.637991e+09   \n",
       "max         1.403487e+08      NaN     NaN       1.687201e+09   \n",
       "\n",
       "        timestamp_updated voted_up       votes_up    votes_funny  \\\n",
       "count        2.446550e+05   244655  244655.000000  244655.000000   \n",
       "unique                NaN        2            NaN            NaN   \n",
       "top                   NaN     True            NaN            NaN   \n",
       "freq                  NaN   233190            NaN            NaN   \n",
       "mean         1.629793e+09      NaN       0.942822       0.197368   \n",
       "std          2.132069e+07      NaN      38.938885      10.345051   \n",
       "min          1.612278e+09      NaN       0.000000       0.000000   \n",
       "25%          1.614213e+09      NaN       0.000000       0.000000   \n",
       "50%          1.617068e+09      NaN       0.000000       0.000000   \n",
       "75%          1.639429e+09      NaN       0.000000       0.000000   \n",
       "max          1.687201e+09      NaN   12801.000000    3819.000000   \n",
       "\n",
       "        weighted_vote_score  comment_count  ... written_during_early_access  \\\n",
       "count         244655.000000  244655.000000  ...                      244655   \n",
       "unique                  NaN            NaN  ...                           1   \n",
       "top                     NaN            NaN  ...                        True   \n",
       "freq                    NaN            NaN  ...                      244655   \n",
       "mean               0.126076       0.040273  ...                         NaN   \n",
       "std                0.221211       0.910162  ...                         NaN   \n",
       "min                0.000000       0.000000  ...                         NaN   \n",
       "25%                0.000000       0.000000  ...                         NaN   \n",
       "50%                0.000000       0.000000  ...                         NaN   \n",
       "75%                0.000000       0.000000  ...                         NaN   \n",
       "max                0.987343     227.000000  ...                         NaN   \n",
       "\n",
       "       hidden_in_steam_china steam_china_location       steamid  \\\n",
       "count                 244655                  0.0  2.446550e+05   \n",
       "unique                     2                  NaN           NaN   \n",
       "top                    False                  NaN           NaN   \n",
       "freq                  215002                  NaN           NaN   \n",
       "mean                     NaN                  NaN  7.656120e+16   \n",
       "std                      NaN                  NaN  3.751221e+08   \n",
       "min                      NaN                  NaN  7.656120e+16   \n",
       "25%                      NaN                  NaN  7.656120e+16   \n",
       "50%                      NaN                  NaN  7.656120e+16   \n",
       "75%                      NaN                  NaN  7.656120e+16   \n",
       "max                      NaN                  NaN  7.656120e+16   \n",
       "\n",
       "        num_games_owned    num_reviews  playtime_forever  \\\n",
       "count     244655.000000  244655.000000      2.446550e+05   \n",
       "unique              NaN            NaN               NaN   \n",
       "top                 NaN            NaN               NaN   \n",
       "freq                NaN            NaN               NaN   \n",
       "mean          78.346827      11.359923      1.130402e+04   \n",
       "std          227.717318      24.045755      1.828825e+04   \n",
       "min            0.000000       1.000000      1.000000e+00   \n",
       "25%            0.000000       2.000000      3.057000e+03   \n",
       "50%            0.000000       5.000000      6.556000e+03   \n",
       "75%           73.000000      12.000000      1.300600e+04   \n",
       "max        19536.000000    2552.000000      1.216607e+06   \n",
       "\n",
       "        playtime_last_two_weeks  playtime_at_review   last_played  \n",
       "count             244655.000000       244655.000000  2.446550e+05  \n",
       "unique                      NaN                 NaN           NaN  \n",
       "top                         NaN                 NaN           NaN  \n",
       "freq                        NaN                 NaN           NaN  \n",
       "mean                  61.634498         4154.193325  1.663589e+09  \n",
       "std                  448.461893         7884.338301  2.301677e+07  \n",
       "min                    0.000000            5.000000  1.612280e+09  \n",
       "25%                    0.000000          720.000000  1.648380e+09  \n",
       "50%                    0.000000         1971.000000  1.672941e+09  \n",
       "75%                    0.000000         4701.000000  1.680962e+09  \n",
       "max                20036.000000       611715.000000  1.687205e+09  \n",
       "\n",
       "[11 rows x 22 columns]"
      ]
     },
     "execution_count": 5,
     "metadata": {},
     "output_type": "execute_result"
    }
   ],
   "source": [
    "# Overall summary stats\n",
    "data.describe(include='all')"
   ]
  },
  {
   "cell_type": "markdown",
   "id": "4867ad73",
   "metadata": {},
   "source": [
    "> **Observations A**:\n",
    "1. *Redundant features/columns*: **language**, **steam_china_location** (due to no variation) and **hidden_in_steam_china** (not meaningful for the purpose of this analysis) => removing will not impact the model\n",
    "2. *Documentation required*: **timestamp_created**, **timestamp_updated**, **playtime_forever**, **playtime_last_two_weeks**, **playtime_at_review** and **last_played** => to transform into a readable date & time format (considering that the data was downloaded on 19-06-2023 at 9 PM GMT) "
   ]
  },
  {
   "cell_type": "code",
   "execution_count": 6,
   "id": "90097d9c",
   "metadata": {},
   "outputs": [],
   "source": [
    "# Removing language, steam_china_location, hidden_in_steam_china columns due to no variation and being not meaningful\n",
    "data.drop(columns=['language', 'steam_china_location', 'hidden_in_steam_china'], inplace=True)"
   ]
  },
  {
   "cell_type": "markdown",
   "id": "31789a29",
   "metadata": {},
   "source": [
    "---\n",
    "### Boolean/binary features"
   ]
  },
  {
   "cell_type": "code",
   "execution_count": 7,
   "id": "52c94802",
   "metadata": {},
   "outputs": [
    {
     "data": {
      "text/plain": [
       "<matplotlib.legend.Legend at 0x1f89994bfa0>"
      ]
     },
     "execution_count": 7,
     "metadata": {},
     "output_type": "execute_result"
    },
    {
     "data": {
      "image/png": "[encoded data removed]",
      "text/plain": [
       "<Figure size 800x800 with 4 Axes>"
      ]
     },
     "metadata": {},
     "output_type": "display_data"
    }
   ],
   "source": [
    "# Boolean/binary features plotting\n",
    "bools=['voted_up', 'steam_purchase', 'received_for_free', 'written_during_early_access']\n",
    "\n",
    "fig, ((ax1, ax2), (ax3, ax4)) = plt.subplots(2, 2)\n",
    "fig.suptitle('Plotting boolean features/columns')\n",
    "a=[ax1, ax2, ax3, ax4]\n",
    "inc=0\n",
    "reorderindex=[True, False]\n",
    "colors={True: 'mediumseagreen', False:'tomato'}\n",
    "for i in bools:\n",
    "    col=data[i].value_counts().reindex(reorderindex)\n",
    "    a[inc]=col.plot(ax=a[inc],kind='pie', figsize=(8,8),autopct='%1.0f%%', title=i, \n",
    "                                                             explode=[0,0.1], colors=[colors[v] for v in col.keys()])\n",
    "    a[inc].set_ylabel('')\n",
    "    inc+=1\n",
    "fig.legend(reorderindex,loc='outside upper right')"
   ]
  },
  {
   "cell_type": "markdown",
   "id": "c28ad024",
   "metadata": {},
   "source": [
    "> **Observations B**:\n",
    "\n",
    "*Redundant features/columns* due to no variation:  'written_during_early_access' => to be removed"
   ]
  },
  {
   "cell_type": "code",
   "execution_count": 8,
   "id": "1821ff79",
   "metadata": {},
   "outputs": [],
   "source": [
    "# Removing redundant column  'written_during_early_access' \n",
    "data.drop(columns='written_during_early_access', inplace=True)"
   ]
  },
  {
   "cell_type": "markdown",
   "id": "531b51e3",
   "metadata": {},
   "source": [
    "---\n",
    "### Checking for missing data"
   ]
  },
  {
   "cell_type": "code",
   "execution_count": 10,
   "id": "29eeb59a",
   "metadata": {},
   "outputs": [
    {
     "data": {
      "text/plain": [
       "recommendationid             0\n",
       "review                     859\n",
       "timestamp_created            0\n",
       "timestamp_updated            0\n",
       "voted_up                     0\n",
       "votes_up                     0\n",
       "votes_funny                  0\n",
       "weighted_vote_score          0\n",
       "comment_count                0\n",
       "steam_purchase               0\n",
       "received_for_free            0\n",
       "steamid                      0\n",
       "num_games_owned              0\n",
       "num_reviews                  0\n",
       "playtime_forever             0\n",
       "playtime_last_two_weeks      0\n",
       "playtime_at_review           0\n",
       "last_played                  0\n",
       "dtype: int64"
      ]
     },
     "execution_count": 10,
     "metadata": {},
     "output_type": "execute_result"
    }
   ],
   "source": [
    "# Checking for missing data\n",
    "data.isnull().sum()"
   ]
  },
  {
   "cell_type": "markdown",
   "id": "665cbdd3",
   "metadata": {},
   "source": [
    "> **Observations C:** dropping the 859 rows that have no data in the 'review' column as the purpose of this analysis is to look at the content of the reviews "
   ]
  },
  {
   "cell_type": "code",
   "execution_count": 11,
   "id": "68a283cb",
   "metadata": {},
   "outputs": [],
   "source": [
    "data.dropna(inplace=True)"
   ]
  },
  {
   "cell_type": "code",
   "execution_count": 13,
   "id": "95de8cb9",
   "metadata": {},
   "outputs": [
    {
     "data": {
      "text/plain": [
       "recommendationid           0\n",
       "review                     0\n",
       "timestamp_created          0\n",
       "timestamp_updated          0\n",
       "voted_up                   0\n",
       "votes_up                   0\n",
       "votes_funny                0\n",
       "weighted_vote_score        0\n",
       "comment_count              0\n",
       "steam_purchase             0\n",
       "received_for_free          0\n",
       "steamid                    0\n",
       "num_games_owned            0\n",
       "num_reviews                0\n",
       "playtime_forever           0\n",
       "playtime_last_two_weeks    0\n",
       "playtime_at_review         0\n",
       "last_played                0\n",
       "dtype: int64"
      ]
     },
     "execution_count": 13,
     "metadata": {},
     "output_type": "execute_result"
    }
   ],
   "source": [
    "# checking if the null rows have been removed\n",
    "data.isnull().sum()"
   ]
  },
  {
   "cell_type": "code",
   "execution_count": 14,
   "id": "bd965369",
   "metadata": {},
   "outputs": [
    {
     "data": {
      "text/plain": [
       "(243796, 18)"
      ]
     },
     "execution_count": 14,
     "metadata": {},
     "output_type": "execute_result"
    }
   ],
   "source": [
    "data.shape #244655-859"
   ]
  },
  {
   "cell_type": "markdown",
   "id": "7f2ae8dd",
   "metadata": {},
   "source": [
    "---\n",
    "### Timedate features"
   ]
  },
  {
   "cell_type": "markdown",
   "id": "3b48cb19",
   "metadata": {},
   "source": [
    "> __Obs a2: Features documentation__ (according to https://partner.steamgames.com/doc/store/getreviews)\n",
    "- __timestamp_created__ - date the review was created (unix timestamp)\n",
    "- __timestamp_updated__ - date the review was last updated (unix timestamp)\n",
    "- __playtime_forever__ - lifetime playtime tracked in this app\n",
    "- __playtime_last_two_weeks__ - playtime tracked in the past two weeks for this app\n",
    "- __playtime_at_review__ - playtime when the review was written\n",
    "- __last_played__ - time for when the user last played (unix timestamp)\n",
    "\n",
    "Note: data was downloaded on 19-06-2023 at 9 PM GMT\n"
   ]
  },
  {
   "cell_type": "markdown",
   "id": "47dc2f81",
   "metadata": {},
   "source": [
    "\n",
    "1. We start by transforming the timestamp features from _UNIX_ to _UTC_ format"
   ]
  },
  {
   "cell_type": "code",
   "execution_count": 16,
   "id": "3981cdf4",
   "metadata": {},
   "outputs": [],
   "source": [
    "#transforming from unix to UTC data time format \n",
    "\n",
    "list_utc=['timestamp_created','timestamp_updated', 'last_played']\n",
    "for col in list_utc:\n",
    "    data[col+'_utc'] =pd.to_datetime(data[col],unit='s')"
   ]
  },
  {
   "cell_type": "code",
   "execution_count": 18,
   "id": "666fa00c",
   "metadata": {},
   "outputs": [
    {
     "data": {
      "text/html": [
       "<div>\n",
       "<style scoped>\n",
       "    .dataframe tbody tr th:only-of-type {\n",
       "        vertical-align: middle;\n",
       "    }\n",
       "\n",
       "    .dataframe tbody tr th {\n",
       "        vertical-align: top;\n",
       "    }\n",
       "\n",
       "    .dataframe thead th {\n",
       "        text-align: right;\n",
       "    }\n",
       "</style>\n",
       "<table border=\"1\" class=\"dataframe\">\n",
       "  <thead>\n",
       "    <tr style=\"text-align: right;\">\n",
       "      <th></th>\n",
       "      <th>recommendationid</th>\n",
       "      <th>review</th>\n",
       "      <th>timestamp_created_utc</th>\n",
       "      <th>timestamp_updated_utc</th>\n",
       "      <th>last_played_utc</th>\n",
       "    </tr>\n",
       "  </thead>\n",
       "  <tbody>\n",
       "    <tr>\n",
       "      <th>0</th>\n",
       "      <td>140348666</td>\n",
       "      <td>I played this for 99 minutes EXACTLY. and I HA...</td>\n",
       "      <td>2023-06-19 18:59:39</td>\n",
       "      <td>2023-06-19 18:59:39</td>\n",
       "      <td>2021-02-28 11:10:11</td>\n",
       "    </tr>\n",
       "    <tr>\n",
       "      <th>1</th>\n",
       "      <td>140347990</td>\n",
       "      <td>this game is amazing, and even better with the...</td>\n",
       "      <td>2023-06-19 18:46:33</td>\n",
       "      <td>2023-06-19 18:46:33</td>\n",
       "      <td>2023-06-19 19:24:03</td>\n",
       "    </tr>\n",
       "    <tr>\n",
       "      <th>2</th>\n",
       "      <td>140347860</td>\n",
       "      <td>GAME IS horrible gave me fucking cancer sound</td>\n",
       "      <td>2023-06-19 18:43:53</td>\n",
       "      <td>2023-06-19 18:43:53</td>\n",
       "      <td>2023-06-19 18:42:45</td>\n",
       "    </tr>\n",
       "    <tr>\n",
       "      <th>3</th>\n",
       "      <td>140345029</td>\n",
       "      <td>The only bad thing about this game is the amou...</td>\n",
       "      <td>2023-06-19 17:47:35</td>\n",
       "      <td>2023-06-19 17:47:35</td>\n",
       "      <td>2023-06-19 17:48:05</td>\n",
       "    </tr>\n",
       "    <tr>\n",
       "      <th>4</th>\n",
       "      <td>140343169</td>\n",
       "      <td>nice</td>\n",
       "      <td>2023-06-19 17:09:31</td>\n",
       "      <td>2023-06-19 17:09:31</td>\n",
       "      <td>2023-06-19 19:13:12</td>\n",
       "    </tr>\n",
       "  </tbody>\n",
       "</table>\n",
       "</div>"
      ],
      "text/plain": [
       "   recommendationid                                             review  \\\n",
       "0         140348666  I played this for 99 minutes EXACTLY. and I HA...   \n",
       "1         140347990  this game is amazing, and even better with the...   \n",
       "2         140347860      GAME IS horrible gave me fucking cancer sound   \n",
       "3         140345029  The only bad thing about this game is the amou...   \n",
       "4         140343169                                               nice   \n",
       "\n",
       "  timestamp_created_utc timestamp_updated_utc     last_played_utc  \n",
       "0   2023-06-19 18:59:39   2023-06-19 18:59:39 2021-02-28 11:10:11  \n",
       "1   2023-06-19 18:46:33   2023-06-19 18:46:33 2023-06-19 19:24:03  \n",
       "2   2023-06-19 18:43:53   2023-06-19 18:43:53 2023-06-19 18:42:45  \n",
       "3   2023-06-19 17:47:35   2023-06-19 17:47:35 2023-06-19 17:48:05  \n",
       "4   2023-06-19 17:09:31   2023-06-19 17:09:31 2023-06-19 19:13:12  "
      ]
     },
     "execution_count": 18,
     "metadata": {},
     "output_type": "execute_result"
    }
   ],
   "source": [
    "data[['recommendationid','review','timestamp_created_utc','timestamp_updated_utc', 'last_played_utc']].head()"
   ]
  },
  {
   "cell_type": "markdown",
   "id": "91409915",
   "metadata": {},
   "source": [
    "2. We transform _playtime_ features from having a unit of measurement in minutes to a unit of hours\n",
    "\n",
    "According to Steam API documentation (https://partner.steamgames.com/doc/store/getreviews), **playtime_forever**, **playtime_last_two_weeks** and **playtime_at_review** have **minutes** as the unit of measurements "
   ]
  },
  {
   "cell_type": "code",
   "execution_count": 19,
   "id": "9d40a24b",
   "metadata": {},
   "outputs": [],
   "source": [
    "#To make these columns more readable I will transform them into hours and round the decimals to 1 digit\n",
    "spent_list=['playtime_forever', 'playtime_last_two_weeks','playtime_at_review']\n",
    "for col_spent in spent_list:\n",
    "    data[col_spent+'_hour']=round(data[col_spent]/60,1)"
   ]
  },
  {
   "cell_type": "markdown",
   "id": "78c7e21b",
   "metadata": {},
   "source": [
    "3. We pick up five reviews to validate the new columns: timedate features in UTC format and playtime in hours. We do so by comparing with the information available on the Steam website."
   ]
  },
  {
   "attachments": {},
   "cell_type": "markdown",
   "id": "0399baac",
   "metadata": {},
   "source": [
    "#### Review 1 "
   ]
  },
  {
   "cell_type": "code",
   "execution_count": 21,
   "id": "8b7ed46e",
   "metadata": {},
   "outputs": [
    {
     "name": "stdout",
     "output_type": "stream",
     "text": [
      "                                                                                                                                                                                                                                                                                                                                                                                                                                                                                                                                                                                                                                                                                                                                                                                                                                                                                                                                                                                                                                    review  \\\n",
      "197824  It's criminal that a team of 5 people can build such an amazing game like this and sell it for $20.\\r\\n\\r\\nI continue to be amazed at the thought that went into this game and all the little details. From the changing weather, the waves in the ocean, the ebb and flow of the water along shorelines, the smoke from the campfire as it fills the room, the ease and simplicity when it comes to building, the way the trees fall, the music that feels seamless and relaxing, and so on.\\r\\n\\r\\nI truly appreciate that they didn't make an \"open world simulation that simulates things for no other reason than to simulate them\". Made a mistake while building that house? No worries, just remove it and get all your materials back. Ran out of food while busy building or crafting? No worries, you're not going to die from hunger. Broke your axe? No worries, just repair it. Troll smashed your cart full of ore? No worries, just put down a workbench and rebuild the cart and put everything back in the cart.   \n",
      "\n",
      "        playtime_at_review  playtime_at_review_hour timestamp_created_utc  \\\n",
      "197824                2602                     43.4   2021-02-20 01:58:47   \n",
      "\n",
      "       timestamp_updated_utc  \n",
      "197824   2021-02-20 01:58:47  \n"
     ]
    }
   ],
   "source": [
    "x=data[['review','playtime_at_review','playtime_at_review_hour','timestamp_created_utc','timestamp_updated_utc'\n",
    "       ]].loc[data['comment_count']==73]\n",
    "with pd.option_context('display.max_colwidth', None):\n",
    "    print(x)"
   ]
  },
  {
   "cell_type": "markdown",
   "id": "fcf7362a",
   "metadata": {},
   "source": [
    "> - _Timestamp in UTC_: 2602 minutes / 60 = 43.367 or ~43.4 hours _which matches what it is displayed on the Steam website!_\n",
    "> - _Playtime_: the creation date of 20th of Feb 2021 & time of 01:58 am also matches what it is on the website \n",
    "\n",
    "\n",
    "<img src=\"Images/73_.jpg\" width=600 height=600 />"
   ]
  },
  {
   "attachments": {},
   "cell_type": "markdown",
   "id": "2bff827f",
   "metadata": {},
   "source": [
    "#### Review 2"
   ]
  },
  {
   "cell_type": "code",
   "execution_count": 22,
   "id": "e5611133",
   "metadata": {},
   "outputs": [
    {
     "name": "stdout",
     "output_type": "stream",
     "text": [
      "                                                                                                                                                                                                                                                                                                                                                                                                                                                                                                                                                                                                                                                                                                                                                             review  \\\n",
      "121011  i'm a 63 year old gamer.  Been playing since 1977 when the Atari 2600 came out with \"Pong\" as the big thing. I have primarily enjoyed open-world exploration games, like Oblivion, Skyrim, and Fallout4, which I have played many hours on.   I have already done 555 hours on Valheim, which has some the most amazingly beautiful, realistic, not to mention dangerous biomes I have ever seen, despite the low detail.  The different climate effects mixed with the lightling and weather are superb,  And the sound effects are so realistic, especially the lightning and thunder storms.  The crafting and settlement building along with you picking where you're going to settle is so great! Definitely one of the best games I have ever played!   \n",
      "\n",
      "        playtime_at_review  playtime_at_review_hour timestamp_created_utc  \\\n",
      "121011               33307                    555.1   2021-03-24 09:59:12   \n",
      "\n",
      "       timestamp_updated_utc  \n",
      "121011   2021-03-24 09:59:12  \n"
     ]
    }
   ],
   "source": [
    "x=data[['review','playtime_at_review','playtime_at_review_hour','timestamp_created_utc','timestamp_updated_utc'\n",
    "       ]].loc[data['comment_count']==136]\n",
    "with pd.option_context('display.max_colwidth', None):\n",
    "    print(x)"
   ]
  },
  {
   "cell_type": "markdown",
   "id": "48bf0ce3",
   "metadata": {},
   "source": [
    "> - _Timestamp in UTC_: 33307 hours / 60 = 555.1167 or ~ 555.1 _which matches what it is displayed on the Steam website!_\n",
    "> - _Playtime_: creation date of 24th March 2021 and time of 09:59 am also matches what it is on the website\n",
    "<img src=\"Images/136.jpg\" width=600 height=600 />"
   ]
  },
  {
   "cell_type": "markdown",
   "id": "09606642",
   "metadata": {},
   "source": [
    "#### Review 3"
   ]
  },
  {
   "cell_type": "code",
   "execution_count": 23,
   "id": "1a393bce",
   "metadata": {},
   "outputs": [
    {
     "name": "stdout",
     "output_type": "stream",
     "text": [
      "                                                                                                                                                                                                                                                                                                                                                                                                                                                                                                                     review  \\\n",
      "218794  I wanted to wait until I had 100 hours into this game to give it a review. I wanted to have plenty of time put into it with it being an early access title. I've played mainly solo, most games like this I do, just a personal preference until I have beat the game. This game is an early access, the only bug I have ran into is an item tooltip describing what the item is. The game feels completed even though it is not. You can’t say that for a lot of early access games now a days.\\r\\n\\r\\nLet's st...   \n",
      "\n",
      "        playtime_at_review  playtime_at_review_hour timestamp_created_utc  \\\n",
      "218794                5999                    100.0   2021-02-15 03:56:47   \n",
      "\n",
      "       timestamp_updated_utc  \n",
      "218794   2021-02-20 15:50:49  \n"
     ]
    }
   ],
   "source": [
    "x=data[['review','playtime_at_review','playtime_at_review_hour','timestamp_created_utc','timestamp_updated_utc'\n",
    "       ]].loc[data['comment_count']==172]\n",
    "with pd.option_context('display.max_colwidth', 500):\n",
    "    print(x)"
   ]
  },
  {
   "cell_type": "markdown",
   "id": "f06d1b36",
   "metadata": {},
   "source": [
    "> - _Timestamp in UTC_: 5999 hours / 60 = 99.983 or ~ 100 hours _which matches what it is displayed on the Steam website!_\n",
    "> - _Playtime_: Creation date of 15th Feb 2021 at 03.56 am & update date of 20th Feb 2021 at 3.50 pm also matches what is on the website\n",
    "<img src=\"Images/172.jpg\" width=600 height=600 />"
   ]
  },
  {
   "cell_type": "markdown",
   "id": "853c2f0d",
   "metadata": {},
   "source": [
    "#### Review 4"
   ]
  },
  {
   "cell_type": "code",
   "execution_count": 25,
   "id": "9f15122c",
   "metadata": {},
   "outputs": [
    {
     "name": "stdout",
     "output_type": "stream",
     "text": [
      "                                                                                                                                                                                                                                                                                                                                                                                                                                                                                                                                                                                                                                                                                                                                 review  \\\n",
      "1965  This game was great until I was exploring the plains and was killed by a mosquito, then after I respawned two more mosquito's spawned In next to my basic little hut I made after crossing the sea, one of the mosquito's managed to fly through a window and is now trapped in my house killing me every time I respawn, if the mosquito trapped in my house wasn't bad enough there is one guarding the outside and one next to my body, I tried to escape in my boat but after I threw it in third gear I got killed and boat sailed away. \\r\\n\\r\\nThe strategic genius of the mosquito squad is far too much for my relatively small brain to handle and if anyone has any tips on what to do it would be greatly appreciated   \n",
      "\n",
      "      playtime_at_review  playtime_at_review_hour timestamp_created_utc  \\\n",
      "1965                3167                     52.8   2023-05-14 06:25:36   \n",
      "\n",
      "     timestamp_updated_utc  \n",
      "1965   2023-05-14 13:12:41  \n"
     ]
    }
   ],
   "source": [
    "x=data[['review','playtime_at_review','playtime_at_review_hour','timestamp_created_utc','timestamp_updated_utc'\n",
    "       ]].loc[data['recommendationid']==138275406]\n",
    "with pd.option_context('display.max_colwidth', 1000):\n",
    "    print(x)"
   ]
  },
  {
   "cell_type": "markdown",
   "id": "fd727cc5",
   "metadata": {},
   "source": [
    "> - _Timestamp in UTC_: 3167 hours / 60 = 52.783 or ~ 52.8 hours _which matches what it is displayed on the Steam website!_\n",
    "> - _Playtime_: Creation date of 14th May 2023 at 06.25 am & update date of 14th May 2023 at 1.12 pm which are both __1h behind__ the time displayed on the website\n",
    "<img src=\"Images/12.jpg\" width=600 height=600 />"
   ]
  },
  {
   "cell_type": "markdown",
   "id": "15f562cb",
   "metadata": {},
   "source": [
    "#### Review 5"
   ]
  },
  {
   "cell_type": "code",
   "execution_count": 35,
   "id": "7217e188",
   "metadata": {},
   "outputs": [
    {
     "name": "stdout",
     "output_type": "stream",
     "text": [
      "                                                                                                                                                                                                                                                                                                                                                                                                                                           review  \\\n",
      "1739  Viking do building,\\r\\nViking do farming,\\r\\nViking do hunting,\\r\\nViking do bee keeping,\\r\\nViking do exploring,\\r\\nViking do more building,\\r\\nViking do cooking,\\r\\nViking do animal husbandry,\\r\\nViking do boat ride,\\r\\nViking do fishing,\\r\\nViking do dream of Valhalla, \\r\\nViking do raid,\\r\\nViking get raided,\\r\\nViking do mead brewing,\\r\\nViking do more and more building,\\r\\nViking make home, not house,\\r\\nViking happy.   \n",
      "\n",
      "      playtime_at_review  playtime_at_review_hour timestamp_created_utc  \\\n",
      "1739                3262                     54.4   2023-05-18 06:12:12   \n",
      "\n",
      "     timestamp_updated_utc  \n",
      "1739   2023-05-18 06:12:12  \n"
     ]
    }
   ],
   "source": [
    "x=data[['review','playtime_at_review','playtime_at_review_hour','timestamp_created_utc','timestamp_updated_utc'\n",
    "       ]].loc[data['recommendationid']==138471899]\n",
    "with pd.option_context('display.max_colwidth', None):\n",
    "    print(x)"
   ]
  },
  {
   "cell_type": "markdown",
   "id": "0ad41219",
   "metadata": {},
   "source": [
    "> - _Timestamp in UTC_: 3262 hours / 60 = 54.367 or ~ 54.4 hours _which matches what it is displayed on the Steam website!_\n",
    "> - _Playtime_: Creation date of 18th May 2023 at 06.12 am which is __1h behind__ the time displayed on the website\n",
    "<img src=\"Images/138471899.jpg\" width=600 height=600 />"
   ]
  },
  {
   "cell_type": "markdown",
   "id": "0e3ad725",
   "metadata": {},
   "source": [
    "> To do: collect a few reviews from April and March to check summer hour change affects the hour difference, plot the frequency of reviews across time, to get the info from userid using another Steam api\n",
    "https://l.facebook.com/l.php?u=http%3A%2F%2Fapi.steampowered.com%2FISteamUser%2FGetPlayerSummaries%2Fv0002%2F%3Fkey%3DXXXXXXXXXXXXXXXXXXXXXXX%26steamids%3D76561197960435530%26fbclid%3DIwAR2XJgBwzmKBU0eCJMHU9asbmbqFnD6ZYj7RdvLEn-yBPplAg5JUmBi5Z74&h=AT3y4FaBnNtYEeXD9HmcZiGmRkOXAlmrS9YORiFJNPX9671E4OLk2N0g8lQeqCgOSErf0eUqb6MmJKRdx5kuFZqRLwgP2sn-Gd8OZ7wyIDzXhtsag6hJSJSUHrYqIOL2hiiBhA"
   ]
  },
  {
   "cell_type": "code",
   "execution_count": null,
   "id": "00dd2b55",
   "metadata": {},
   "outputs": [],
   "source": []
  },
  {
   "cell_type": "code",
   "execution_count": null,
   "id": "74b41a84",
   "metadata": {},
   "outputs": [],
   "source": [
    "import plotly.express as px\n",
    "#DF=pd.to_datetime(data['timestamp_created'],unit='s')\n",
    "DF=data['timestamp_created_utc']\n",
    "month_year_formatter = DF.DateFormatter('%m-%Y') # The \",\" is intentional.\n",
    "\n",
    "fig, ax = plt.subplots(figsize=(8, 8))\n",
    "\n",
    "monthly_locator = mdates.MonthLocator()\n",
    "ax.xaxis.set_major_locator(half_year_locator)\n",
    "ax.xaxis.set_minor_locator(monthly_locator)\n",
    "ax.xaxis.set_major_formatter(month_year_formatter)\n",
    "ax.plot(date, value)\n",
    "\n",
    "fig.autofmt_xdate()"
   ]
  },
  {
   "cell_type": "code",
   "execution_count": null,
   "id": "73e7e150",
   "metadata": {},
   "outputs": [],
   "source": []
  },
  {
   "cell_type": "code",
   "execution_count": null,
   "id": "a2ba921b",
   "metadata": {},
   "outputs": [],
   "source": [
    "data.nlargest(3,'comment_count', keep='all')"
   ]
  },
  {
   "cell_type": "code",
   "execution_count": null,
   "id": "4f9afaaf",
   "metadata": {},
   "outputs": [],
   "source": [
    "#pd.crosstab"
   ]
  },
  {
   "cell_type": "code",
   "execution_count": null,
   "id": "01de4fe3",
   "metadata": {},
   "outputs": [],
   "source": [
    "#plotting continuous/numerical columns\n",
    "fig, ((ax1, ax2), (ax3, ax4)) = plt.subplots(2, 2)\n",
    "fig.suptitle('Plotting boolean features/columns')\n",
    "a=[ax1, ax2, ax3, ax4]\n",
    "inc=0\n",
    "for i in bools:\n",
    "    a[inc]=data[i].value_counts().plot(ax=a[inc],kind='bar', figsize=(10,10),title=i)\n",
    "    a[inc].bar_label(a[inc].containers[0], label_type='edge')\n",
    "    inc+=1"
   ]
  },
  {
   "cell_type": "code",
   "execution_count": null,
   "id": "0548a450",
   "metadata": {},
   "outputs": [],
   "source": [
    "counts = data['timestamp_created_utc'].value_counts(sort=False)\n",
    "#plt.plot(counts.index,counts)\n",
    "#plt.show()\n",
    "\n",
    "#s = data['timestamp_created_utc'].value_counts().sort_index()\n",
    "#s.plot.line()\n",
    "\n",
    "import seaborn as sns\n",
    "sns.set(rc={'figure.figsize':(11, 4)})\n",
    "counts.plot(linewidth=0.5)\n",
    "    \n",
    "    #    data[col+'_utc'] =data[col].apply(lambda x: datetime.utcfromtimestamp(x).strftime('%d-%m-%Y %H:%M:%S'))"
   ]
  }
 ],
 "metadata": {
  "kernelspec": {
   "display_name": "Python 3 (ipykernel)",
   "language": "python",
   "name": "python3"
  },
  "language_info": {
   "codemirror_mode": {
    "name": "ipython",
    "version": 3
   },
   "file_extension": ".py",
   "mimetype": "text/x-python",
   "name": "python",
   "nbconvert_exporter": "python",
   "pygments_lexer": "ipython3",
   "version": "3.10.9"
  }
 },
 "nbformat": 4,
 "nbformat_minor": 5
}
